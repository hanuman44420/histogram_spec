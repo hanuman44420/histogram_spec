{
  "nbformat": 4,
  "nbformat_minor": 0,
  "metadata": {
    "colab": {
      "name": "Untitled5.ipynb",
      "provenance": []
    },
    "kernelspec": {
      "name": "python3",
      "display_name": "Python 3"
    },
    "language_info": {
      "name": "python"
    }
  },
  "cells": [
    {
      "cell_type": "code",
      "execution_count": 8,
      "metadata": {
        "id": "PrkRizMwkymq"
      },
      "outputs": [],
      "source": [
        "from skimage.exposure import match_histograms\n",
        "import cv2\n",
        "\n",
        "# loading data\n",
        "reference = cv2.imread(\"/content/drive/MyDrive/water2.jpg\")\n",
        "image = cv2.imread(\"/content/drive/MyDrive/water1.jpg\")\n",
        "\n",
        "# matching histograms\n",
        "matched = match_histograms(image, reference,\n",
        "\t\t\t\t\t\tmultichannel=True,)\n",
        "\n",
        "cv2.imwrite('matched.png',matched)\n",
        "cv2.waitKey(0)\n",
        "cv2.destroyAllWindows()"
      ]
    }
  ]
}